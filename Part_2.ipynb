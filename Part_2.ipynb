{
  "nbformat": 4,
  "nbformat_minor": 0,
  "metadata": {
    "colab": {
      "name": "Part 2",
      "provenance": [],
      "collapsed_sections": [],
      "include_colab_link": true
    },
    "kernelspec": {
      "name": "python3",
      "display_name": "Python 3"
    }
  },
  "cells": [
    {
      "cell_type": "markdown",
      "metadata": {
        "id": "view-in-github",
        "colab_type": "text"
      },
      "source": [
        "<a href=\"https://colab.research.google.com/github/yehslee/anxiety-prevalence/blob/main/Part_2.ipynb\" target=\"_parent\"><img src=\"https://colab.research.google.com/assets/colab-badge.svg\" alt=\"Open In Colab\"/></a>"
      ]
    },
    {
      "cell_type": "code",
      "metadata": {
        "id": "Dzs6EgDshRsD",
        "outputId": "9feb66ed-cda3-4d34-9910-ed8fb05dfe6d",
        "colab": {
          "base_uri": "https://localhost:8080/"
        }
      },
      "source": [
        "!pip install --upgrade geopandas\n",
        "!pip install --upgrade descartes\n",
        "!pip install country_converter --upgrade\n",
        "!pip install --upgrade scikit-learn\n",
        "!pip install cython\n",
        "\n",
        "import matplotlib.pyplot as plt\n",
        "import geopandas as gpd\n",
        "import pandas as pd\n",
        "import seaborn as sns\n",
        "from sklearn.tree import DecisionTreeRegressor\n",
        "from sklearn.model_selection import train_test_split\n",
        "from sklearn.metrics import mean_squared_error\n",
        "import graphviz \n",
        "from sklearn.tree import export_graphviz\n",
        "from IPython.display import display\n",
        "from sklearn import tree\n",
        "\n",
        "%matplotlib inline"
      ],
      "execution_count": null,
      "outputs": [
        {
          "output_type": "stream",
          "text": [
            "Collecting geopandas\n",
            "\u001b[?25l  Downloading https://files.pythonhosted.org/packages/f7/a4/e66aafbefcbb717813bf3a355c8c4fc3ed04ea1dd7feb2920f2f4f868921/geopandas-0.8.1-py2.py3-none-any.whl (962kB)\n",
            "\u001b[K     |████████████████████████████████| 972kB 7.1MB/s \n",
            "\u001b[?25hCollecting fiona\n",
            "\u001b[?25l  Downloading https://files.pythonhosted.org/packages/36/8b/e8b2c11bed5373c8e98edb85ce891b09aa1f4210fd451d0fb3696b7695a2/Fiona-1.8.17-cp36-cp36m-manylinux1_x86_64.whl (14.8MB)\n",
            "\u001b[K     |████████████████████████████████| 14.8MB 293kB/s \n",
            "\u001b[?25hRequirement already satisfied, skipping upgrade: shapely in /usr/local/lib/python3.6/dist-packages (from geopandas) (1.7.1)\n",
            "Requirement already satisfied, skipping upgrade: pandas>=0.23.0 in /usr/local/lib/python3.6/dist-packages (from geopandas) (1.1.3)\n",
            "Collecting pyproj>=2.2.0\n",
            "\u001b[?25l  Downloading https://files.pythonhosted.org/packages/e5/c3/071e080230ac4b6c64f1a2e2f9161c9737a2bc7b683d2c90b024825000c0/pyproj-2.6.1.post1-cp36-cp36m-manylinux2010_x86_64.whl (10.9MB)\n",
            "\u001b[K     |████████████████████████████████| 10.9MB 17.9MB/s \n",
            "\u001b[?25hCollecting munch\n",
            "  Downloading https://files.pythonhosted.org/packages/cc/ab/85d8da5c9a45e072301beb37ad7f833cd344e04c817d97e0cc75681d248f/munch-2.5.0-py2.py3-none-any.whl\n",
            "Requirement already satisfied, skipping upgrade: attrs>=17 in /usr/local/lib/python3.6/dist-packages (from fiona->geopandas) (20.2.0)\n",
            "Collecting cligj>=0.5\n",
            "  Downloading https://files.pythonhosted.org/packages/ba/06/e3440b1f2dc802d35f329f299ba96153e9fcbfdef75e17f4b61f79430c6a/cligj-0.7.0-py3-none-any.whl\n",
            "Requirement already satisfied, skipping upgrade: click<8,>=4.0 in /usr/local/lib/python3.6/dist-packages (from fiona->geopandas) (7.1.2)\n",
            "Collecting click-plugins>=1.0\n",
            "  Downloading https://files.pythonhosted.org/packages/e9/da/824b92d9942f4e472702488857914bdd50f73021efea15b4cad9aca8ecef/click_plugins-1.1.1-py2.py3-none-any.whl\n",
            "Requirement already satisfied, skipping upgrade: six>=1.7 in /usr/local/lib/python3.6/dist-packages (from fiona->geopandas) (1.15.0)\n",
            "Requirement already satisfied, skipping upgrade: numpy>=1.15.4 in /usr/local/lib/python3.6/dist-packages (from pandas>=0.23.0->geopandas) (1.18.5)\n",
            "Requirement already satisfied, skipping upgrade: pytz>=2017.2 in /usr/local/lib/python3.6/dist-packages (from pandas>=0.23.0->geopandas) (2018.9)\n",
            "Requirement already satisfied, skipping upgrade: python-dateutil>=2.7.3 in /usr/local/lib/python3.6/dist-packages (from pandas>=0.23.0->geopandas) (2.8.1)\n",
            "Installing collected packages: munch, cligj, click-plugins, fiona, pyproj, geopandas\n",
            "Successfully installed click-plugins-1.1.1 cligj-0.7.0 fiona-1.8.17 geopandas-0.8.1 munch-2.5.0 pyproj-2.6.1.post1\n",
            "Requirement already up-to-date: descartes in /usr/local/lib/python3.6/dist-packages (1.1.0)\n",
            "Requirement already satisfied, skipping upgrade: matplotlib in /usr/local/lib/python3.6/dist-packages (from descartes) (3.2.2)\n",
            "Requirement already satisfied, skipping upgrade: cycler>=0.10 in /usr/local/lib/python3.6/dist-packages (from matplotlib->descartes) (0.10.0)\n",
            "Requirement already satisfied, skipping upgrade: kiwisolver>=1.0.1 in /usr/local/lib/python3.6/dist-packages (from matplotlib->descartes) (1.2.0)\n",
            "Requirement already satisfied, skipping upgrade: python-dateutil>=2.1 in /usr/local/lib/python3.6/dist-packages (from matplotlib->descartes) (2.8.1)\n",
            "Requirement already satisfied, skipping upgrade: pyparsing!=2.0.4,!=2.1.2,!=2.1.6,>=2.0.1 in /usr/local/lib/python3.6/dist-packages (from matplotlib->descartes) (2.4.7)\n",
            "Requirement already satisfied, skipping upgrade: numpy>=1.11 in /usr/local/lib/python3.6/dist-packages (from matplotlib->descartes) (1.18.5)\n",
            "Requirement already satisfied, skipping upgrade: six in /usr/local/lib/python3.6/dist-packages (from cycler>=0.10->matplotlib->descartes) (1.15.0)\n",
            "Collecting country_converter\n",
            "\u001b[?25l  Downloading https://files.pythonhosted.org/packages/8d/57/359a3d4507c5c517ba8e95933214f59b5a1b1a8f51c9b8c9031cd34959dc/country_converter-0.7.1.tar.gz (47kB)\n",
            "\u001b[K     |████████████████████████████████| 51kB 3.1MB/s \n",
            "\u001b[?25hRequirement already satisfied, skipping upgrade: pandas>=0.17.0 in /usr/local/lib/python3.6/dist-packages (from country_converter) (1.1.3)\n",
            "Requirement already satisfied, skipping upgrade: python-dateutil>=2.7.3 in /usr/local/lib/python3.6/dist-packages (from pandas>=0.17.0->country_converter) (2.8.1)\n",
            "Requirement already satisfied, skipping upgrade: pytz>=2017.2 in /usr/local/lib/python3.6/dist-packages (from pandas>=0.17.0->country_converter) (2018.9)\n",
            "Requirement already satisfied, skipping upgrade: numpy>=1.15.4 in /usr/local/lib/python3.6/dist-packages (from pandas>=0.17.0->country_converter) (1.18.5)\n",
            "Requirement already satisfied, skipping upgrade: six>=1.5 in /usr/local/lib/python3.6/dist-packages (from python-dateutil>=2.7.3->pandas>=0.17.0->country_converter) (1.15.0)\n",
            "Building wheels for collected packages: country-converter\n",
            "  Building wheel for country-converter (setup.py) ... \u001b[?25l\u001b[?25hdone\n",
            "  Created wheel for country-converter: filename=country_converter-0.7.1-cp36-none-any.whl size=50807 sha256=d04a24dd490cebb3c83128de048af7bc99c01d7db189bf9227f204d5db486fc0\n",
            "  Stored in directory: /root/.cache/pip/wheels/75/be/cb/3c8d07bca8f2c0670e996a174fed372585b32d3aa03f40996a\n",
            "Successfully built country-converter\n",
            "Installing collected packages: country-converter\n",
            "Successfully installed country-converter-0.7.1\n",
            "Collecting scikit-learn\n",
            "\u001b[?25l  Downloading https://files.pythonhosted.org/packages/5c/a1/273def87037a7fb010512bbc5901c31cfddfca8080bc63b42b26e3cc55b3/scikit_learn-0.23.2-cp36-cp36m-manylinux1_x86_64.whl (6.8MB)\n",
            "\u001b[K     |████████████████████████████████| 6.8MB 8.6MB/s \n",
            "\u001b[?25hCollecting threadpoolctl>=2.0.0\n",
            "  Downloading https://files.pythonhosted.org/packages/f7/12/ec3f2e203afa394a149911729357aa48affc59c20e2c1c8297a60f33f133/threadpoolctl-2.1.0-py3-none-any.whl\n",
            "Requirement already satisfied, skipping upgrade: numpy>=1.13.3 in /usr/local/lib/python3.6/dist-packages (from scikit-learn) (1.18.5)\n",
            "Requirement already satisfied, skipping upgrade: joblib>=0.11 in /usr/local/lib/python3.6/dist-packages (from scikit-learn) (0.17.0)\n",
            "Requirement already satisfied, skipping upgrade: scipy>=0.19.1 in /usr/local/lib/python3.6/dist-packages (from scikit-learn) (1.4.1)\n",
            "Installing collected packages: threadpoolctl, scikit-learn\n",
            "  Found existing installation: scikit-learn 0.22.2.post1\n",
            "    Uninstalling scikit-learn-0.22.2.post1:\n",
            "      Successfully uninstalled scikit-learn-0.22.2.post1\n",
            "Successfully installed scikit-learn-0.23.2 threadpoolctl-2.1.0\n",
            "Requirement already satisfied: cython in /usr/local/lib/python3.6/dist-packages (0.29.21)\n"
          ],
          "name": "stdout"
        }
      ]
    },
    {
      "cell_type": "code",
      "metadata": {
        "id": "UIP4S0QnJQEe",
        "outputId": "59dba021-8986-4d67-ec3d-a3b28cc1a3b4",
        "colab": {
          "base_uri": "https://localhost:8080/"
        }
      },
      "source": [
        "import requests\n",
        "\n",
        "def save_file(url, file_name):\n",
        "  r = requests.get(url)\n",
        "  with open(file_name, 'wb') as f:\n",
        "    f.write(r.content)\n",
        "  \n",
        "save_file('https://courses.cs.washington.edu/courses/cse163/19sp/' +\n",
        "          'files/lectures/05-13/data.zip', 'data.zip')\n",
        "save_file('https://courses.cs.washington.edu/courses/cse163/19sp/' +\n",
        "          'files/lectures/05-13/gz_2010_us_040_00_5m.json', \n",
        "          'gz_2010_us_040_00_5m.json')\n",
        "!unzip data.zip"
      ],
      "execution_count": null,
      "outputs": [
        {
          "output_type": "stream",
          "text": [
            "Archive:  data.zip\n",
            "   creating: data/\n",
            "  inflating: data/ne_110m_admin_0_countries.shx  \n",
            "  inflating: data/ne_110m_admin_0_countries.shp  \n",
            " extracting: data/ne_110m_admin_0_countries.cpg  \n",
            " extracting: data/ne_110m_admin_0_countries.VERSION.txt  \n",
            "  inflating: data/ne_110m_admin_0_countries.dbf  \n",
            "  inflating: data/ne_110m_admin_0_countries.README.html  \n",
            "  inflating: data/ne_110m_admin_0_countries.prj  \n"
          ],
          "name": "stdout"
        }
      ]
    },
    {
      "cell_type": "markdown",
      "metadata": {
        "id": "KiedoGJuSasQ"
      },
      "source": [
        "# Merge Anxiety and Geometry Data"
      ]
    },
    {
      "cell_type": "code",
      "metadata": {
        "id": "DqE3jZpUMg4u"
      },
      "source": [
        "import country_converter as coco\n",
        "def shorter_names(column):\n",
        "  cc = coco.CountryConverter()\n",
        "  column = column.map(lambda x:\n",
        "                      cc.convert(names=x, to='name_short'))\n",
        "  return column\n"
      ],
      "execution_count": null,
      "outputs": []
    },
    {
      "cell_type": "code",
      "metadata": {
        "id": "__DRLMVGoO0g"
      },
      "source": [
        "def merge_data(anxiety, countries):\n",
        "  \"\"\"\n",
        "  Takes in the anxiety dataframe and the countries geopandas dataframe to incorporate plotting.\n",
        "  It then merges the two datasets according to country name, and returns the merged geopandas dataframe.\n",
        "  \"\"\"\n",
        "  geometry = countries[['NAME_EN', 'CONTINENT', 'geometry']]\n",
        "  geometry['NAME_EN'] = shorter_names(geometry['NAME_EN'])\n",
        "  anxiety['location'] = shorter_names(anxiety['location'])\n",
        "  merged = geometry.merge(anxiety, left_on='NAME_EN', right_on='location', how='left')\n",
        "  return merged\n"
      ],
      "execution_count": null,
      "outputs": []
    },
    {
      "cell_type": "markdown",
      "metadata": {
        "id": "u-1IoHrkSfJt"
      },
      "source": [
        "# Question 1\n"
      ]
    },
    {
      "cell_type": "markdown",
      "metadata": {
        "id": "4Guhrbp-Sk2V"
      },
      "source": [
        "How has the prevalence of anxiety changed from 2000 to 2017 for each continent, country, and gender?"
      ]
    },
    {
      "cell_type": "code",
      "metadata": {
        "id": "y81ZpcKAikqG",
        "outputId": "6fc04107-d4ac-4b2b-db4d-2003376c1417",
        "colab": {
          "base_uri": "https://localhost:8080/",
          "height": 34
        }
      },
      "source": [
        ""
      ],
      "execution_count": null,
      "outputs": [
        {
          "output_type": "execute_result",
          "data": {
            "text/plain": [
              "pandas.core.frame.DataFrame"
            ]
          },
          "metadata": {
            "tags": []
          },
          "execution_count": 63
        }
      ]
    },
    {
      "cell_type": "code",
      "metadata": {
        "id": "Y6V2Q6qNnBgb"
      },
      "source": [
        "def country_prev_year(data):\n",
        "  \"\"\"\n",
        "  Takes in merged data set and compares the prevalence of anxiety in each country\n",
        "  in the years 2000, 2008, and 2017. \n",
        "  It produces three geospatial plots for the three years, and saves the figure as \n",
        "  'country_prev_year.png'.  \n",
        "  \"\"\"\n",
        "  filtered = data[['NAME_EN', 'year', 'val', 'geometry']]\n",
        "  # by country for the year 2000\n",
        "  year_2000 = filtered[filtered['year'] == 2000]\n",
        "  country_2000 = year_2000.dissolve(by='NAME_EN', aggfunc='mean')\n",
        "\n",
        "  # by country for the year 2008\n",
        "  year_2008 = filtered[filtered['year'] == 2008]\n",
        "  country_2008 = year_2008.dissolve(by='NAME_EN', aggfunc='mean')\n",
        "\n",
        "  # by country for the year 2017\n",
        "  year_2017 = filtered[filtered['year'] == 2017]\n",
        "  country_2017 = year_2017.dissolve(by='NAME_EN', aggfunc='mean')\n",
        "\n",
        "  # plots the geospatial data on the same figure \n",
        "  fig, [ax1, ax2, ax3] = plt.subplots(3, figsize=(15, 10))\n",
        "  country_2000.plot(column='val', ax=ax1, legend=True)\n",
        "  country_2008.plot(column='val', ax=ax2, legend=True)\n",
        "  country_2017.plot(column='val', ax=ax3, legend=True)\n",
        "\n",
        "  ax1.set_title('Anxiety Prevalence in Each Country (2000)')\n",
        "  ax2.set_title('Anxiety Prevalence in Each Country (2008)')\n",
        "  ax3.set_title('Anxiety Prevalence in Each Country (2017)')\n",
        "  plt.subplots_adjust(hspace=0.5)\n",
        "\n",
        "  # save figure as png file\n",
        "  plt.savefig('country_prev_year.png')"
      ],
      "execution_count": null,
      "outputs": []
    },
    {
      "cell_type": "code",
      "metadata": {
        "id": "k8VkKrkEdNZE"
      },
      "source": [
        "def prev_per_gender(data):\n",
        "  \"\"\"\n",
        "  Takes in a merged data set and looks at the prevalence of anxiety for each\n",
        "  gender (male, female, and both) over the years of 2000-2017.\n",
        "  Creates a line graph and saves the figure as 'gender_prev.png'\n",
        "  \"\"\"\n",
        "  # per year group by gender\n",
        "  female_merged = data[data['sex'] == 'Female']\n",
        "  female_prev = female_merged.groupby('year')['val'].mean()\n",
        "  female_prev = female_prev.reset_index()\n",
        "  female_prev['year'] = female_prev['year'].astype(str)\n",
        "\n",
        "  male_merged = data[data['sex'] == 'Male']\n",
        "  male_prev = male_merged.groupby('year')['val'].mean()\n",
        "  male_prev = male_prev.reset_index()\n",
        "  male_prev['year'] = male_prev['year'].astype(str)\n",
        "\n",
        "  both_prev = data.groupby('year')['val'].mean()\n",
        "  both_prev = both_prev.reset_index()\n",
        "  both_prev['year'] = both_prev['year'].astype(str)\n",
        "\n",
        "  fig, [ax1, ax2] = plt.subplots(2, figsize=(10, 10))\n",
        "  sns.lineplot(ax=ax1, x='year', y='val', data=female_prev, color='orange', label='Female')\n",
        "  sns.lineplot(ax=ax1, x='year', y='val', data=male_prev, color='green', label='Male')\n",
        "  sns.lineplot(ax=ax2, x='year', y='val', data=both_prev, label=\"Both Sexes\")\n",
        "\n",
        "  plt.subplots_adjust(hspace=0.5)\n",
        "  ax1.set_title('Prevalence of Anxiety in Males and Females (2000 - 2017)')\n",
        "  ax2.set_title('Prevalence of Anxiety in Both Sexes (2000 - 2017)')\n",
        "  ax1.set_xticklabels(labels=both_prev['year'],rotation=-45)\n",
        "  ax2.set_xticklabels(labels=both_prev['year'],rotation=-45)\n",
        "\n",
        "  # save plot as png file\n",
        "  plt.savefig('gender_prev.png')"
      ],
      "execution_count": null,
      "outputs": []
    },
    {
      "cell_type": "markdown",
      "metadata": {
        "id": "Dr6QMykYcb5R"
      },
      "source": [
        "# Question 2"
      ]
    },
    {
      "cell_type": "markdown",
      "metadata": {
        "id": "HKyb4MQpce2v"
      },
      "source": [
        "For both continental and gender groups, are there specific ages when people begin or stop feeling anxiety?\n"
      ]
    },
    {
      "cell_type": "code",
      "metadata": {
        "id": "LLZHs8QMALIG"
      },
      "source": [
        "def continents_by_gender_group(data):\n",
        "  '''\n",
        "  This function creates three graphs that support side-by-side analysis of\n",
        "  how gender groups affect the prevalence of anxiety based on the continent\n",
        "  one is from and what age group they belong to.\n",
        "  '''\n",
        "  # filters dataset for relevant columns\n",
        "  continent_data = data[['location', 'year', 'CONTINENT', 'sex', 'age', 'val']]\n",
        "  # groups dataset by unique combinations of continent and age and sums the\n",
        "  # prevalence of anxiety for each of the combinations (both genders)\n",
        "  by_continent = continent_data.groupby(['CONTINENT', 'age'], sort=False)['val'].sum()\n",
        "  # reset_index creates a dataframe from the resulting grouped-by series\n",
        "  by_continent = by_continent.reset_index()\n",
        "  # filters continent_data for male data\n",
        "  male_continent_data = continent_data[continent_data['sex'] == 'Male']\n",
        "  # groups dataset by unique combinations of continent and age and sums the\n",
        "  # prevalence of anxiety for those male groups\n",
        "  male_continent_data = male_continent_data.groupby(['CONTINENT', 'age'], sort=False)['val'].sum()\n",
        "  # reset_index creates a dataframe from the resulting grouped-by series\n",
        "  male_continent_data = male_continent_data.reset_index()\n",
        "  # filters continent_data for female data\n",
        "  female_continent_data = continent_data[continent_data['sex'] == 'Female']\n",
        "  # groups dataset by unique combinations of continent and age and sums the\n",
        "  # prevalence of anxiety for those female groups\n",
        "  female_continent_data = female_continent_data.groupby(['CONTINENT', 'age'], sort=False)['val'].sum()\n",
        "  # reset_index creates a dataframe from the resulting grouped-by series\n",
        "  female_continent_data = female_continent_data.reset_index()\n",
        "  # creates a figure to plot three graphs side-by-side\n",
        "  fig, [ax1, ax2, ax3] = plt.subplots(ncols=3, figsize=(22, 8))\n",
        "  # plots first graph of data of both genders with anxiety\n",
        "  both_genders_by_continent = sns.lineplot(data=by_continent, sort=False, x='age', y='val', hue='CONTINENT', legend='full', ax=ax1)\n",
        "  # plots second graph of data of males with anxiety\n",
        "  male_by_continent = sns.lineplot(data=male_continent_data, sort=False, x='age', y='val', hue='CONTINENT', legend='full', ax=ax2)\n",
        "  # plots third graph of data of females with anxiety\n",
        "  female_by_continent = sns.lineplot(data=female_continent_data, sort=False, x='age', y='val', hue='CONTINENT', legend='full', ax=ax3)\n",
        "  # list of all the age groups in the x-axis\n",
        "  age_order = [\"1 to 4\", \"5 to 9\", \"10 to 14\", \"15 to 19\", \"20 to 24\", \"25 to 29\",\n",
        "                \"30 to 34\", \"35 to 39\", \"40 to 44\", \"45 to 49\", \"50 to 54\",\n",
        "                \"55 to 59\", \"60 to 64\", \"65 to 69\", \"70 to 74\", \"75 to 79\",\n",
        "                \"80 to 84\", \"85 to 89\", \"90 to 94\"]\n",
        "  # list of all the plots in the figure\n",
        "  continent_plots = [both_genders_by_continent, male_by_continent, female_by_continent]\n",
        "  # for loop to set various features for each of the graphs\n",
        "  for i in continent_plots:\n",
        "    i.set(ylim=(0, 300000000))  # y-axis bounds\n",
        "    i.set_xlabel('Age Group')  # x-axis label\n",
        "    i.set_ylabel('Number of People (Hundred Million)')  # y-axis label\n",
        "    # rotates tick labels for better visibility\n",
        "    i.set_xticklabels(labels=age_order, rotation=-45)\n",
        "  # title for first graph\n",
        "  ax1.set_title('Anxiety Per Continent by Age Group (Both Genders)')\n",
        "  # title for second graph\n",
        "  ax2.set_title('Anxiety Per Continent by Age Group (Male)')\n",
        "  # title for third graph\n",
        "  ax3.set_title('Anxiety Per Continent by Age Group (Female)')\n",
        "  # saves figure in png file\n",
        "  plt.savefig('anxiety_continents_gender.png')"
      ],
      "execution_count": null,
      "outputs": []
    },
    {
      "cell_type": "code",
      "metadata": {
        "id": "V2oEXMJk_5fV"
      },
      "source": [
        "def continents_by_age_group(data):\n",
        "  '''\n",
        "  This function allows for analyses of prevalence of anxiety in each age group\n",
        "  based on individual continents. This function is an extention of the\n",
        "  continents_by_gender_group function, but instead of graphing the genders as\n",
        "  different plots, it groups the data by continent and illustrates the difference\n",
        "  in prevalence of anxiety per age group based on what continent one is from.\n",
        "  '''\n",
        "  # filters dataset for relevant columns\n",
        "  continent_data = merged[['location', 'year', 'CONTINENT', 'sex', 'age', 'val']]\n",
        "  # groups dataset by unique combinations of continent, year, and age and\n",
        "  # sums the prevalence of anxiety for each of the combinations\n",
        "  by_continents = continent_data.groupby(['CONTINENT', 'year', 'age'], sort=False)['val'].sum()\n",
        "  # reset_index creates a dataframe from the grouped-by series\n",
        "  by_continents = by_continents.reset_index()\n",
        "  # creates a figure with six graphs for each of the continents\n",
        "  fig, [[ax1, ax2, ax3], [ax4, ax5, ax6]] = plt.subplots(2, ncols=3, figsize=(28, 14))\n",
        "  # filters dataset for data pertaining to Asia\n",
        "  asia = by_continents[by_continents['CONTINENT'] == 'Asia']\n",
        "  # creates a color palette for the Asia plot, matching the figure above\n",
        "  blue = sns.light_palette(\"blue\", as_cmap=True)\n",
        "  # plots first graph of anxiety by age groups in Asia\n",
        "  asia_plot = sns.lineplot(data=asia, sort=False, x='age', y='val', hue='year', ax=ax1, palette=blue)\n",
        "  # title for first graph\n",
        "  asia_plot.set_title('Asia\\'s Anxiety Per Age Group Per Year')\n",
        "  # filters dataset for data pertaining to Europe\n",
        "  europe = by_continents[by_continents['CONTINENT'] == 'Europe']\n",
        "  # creates a color palette for the Europe plot, matching the figure above\n",
        "  orange = sns.light_palette(\"orange\", as_cmap=True)\n",
        "  # plots first graph of anxiety by age groups in Europe\n",
        "  europe_plot = sns.lineplot(data=europe, sort=False, x='age', y='val', hue='year', ax=ax2, palette=orange)\n",
        "  # title for second graph\n",
        "  europe_plot.set_title('Europe\\'s Anxiety Per Age Group Per Year')\n",
        "  # filters dataset for data pertaining to North America\n",
        "  north_america = by_continents[by_continents['CONTINENT'] == 'North America']\n",
        "  # creates a color palette for the North America plot, matching the figure above\n",
        "  green = sns.light_palette(\"green\", as_cmap=True)\n",
        "  # plots first graph of anxiety by age groups in North America\n",
        "  north_america_plot = sns.lineplot(data=asia, sort=False, x='age', y='val', hue='year', ax=ax3, palette=green)\n",
        "  # title for third graph\n",
        "  north_america_plot.set_title('North America\\'s Anxiety Per Age Group Per Year')\n",
        "  # filters dataset for data pertaining to South America\n",
        "  south_america = by_continents[by_continents['CONTINENT'] == 'South America']\n",
        "  # creates a color palette for the South America plot, matching the figure above\n",
        "  red = sns.light_palette(\"red\", as_cmap=True)\n",
        "  # plots first graph of anxiety by age groups in South America\n",
        "  south_america_plot = sns.lineplot(data=south_america, sort=False, x='age', y='val', hue='year', ax=ax4, palette=red)\n",
        "  # title for fourth graph\n",
        "  south_america_plot.set_title('South America\\'s Anxiety Per Age Group Per Year')\n",
        "  # filters dataset for data pertaining to Africa\n",
        "  africa = by_continents[by_continents['CONTINENT'] == 'Africa']\n",
        "  # creates a color palette for the Africa plot, matching the figure above\n",
        "  purple = sns.light_palette(\"purple\", as_cmap=True)\n",
        "  # plots first graph of anxiety by age groups in Africa\n",
        "  africa_plot = sns.lineplot(data=africa, sort=False, x='age', y='val', hue='year', ax=ax5, palette=purple)\n",
        "  # title for fifth graph\n",
        "  africa_plot.set_title('Africa\\'s Anxiety Per Age Group Per Year')\n",
        "  # filters dataset for data pertaining to Oceania\n",
        "  oceania = by_continents[by_continents['CONTINENT'] == 'Oceania']\n",
        "  # creates a color palette for the Oceania plot, matching the figure above\n",
        "  brown = sns.light_palette(\"brown\", as_cmap=True)\n",
        "  # plots first graph of anxiety by age groups in Oceania\n",
        "  oceania_plot = sns.lineplot(data=oceania, sort=False, x='age', y='val', hue='year', ax=ax6, palette=brown)\n",
        "  # title for sixth graph\n",
        "  oceania_plot.set_title('Oceania\\'s Anxiety Per Age Group Per Year')\n",
        "  # list of all plots in the figure\n",
        "  plots = [asia_plot, europe_plot, north_america_plot, south_america_plot, africa_plot]\n",
        "  # list of all the age groups in the x-axis\n",
        "  age_order = [\"1 to 4\", \"5 to 9\", \"10 to 14\", \"15 to 19\", \"20 to 24\", \"25 to 29\",\n",
        "                \"30 to 34\", \"35 to 39\", \"40 to 44\", \"45 to 49\", \"50 to 54\",\n",
        "                \"55 to 59\", \"60 to 64\", \"65 to 69\", \"70 to 74\", \"75 to 79\",\n",
        "                \"80 to 84\", \"85 to 89\", \"90 to 94\"]\n",
        "  # unique bounds for Oceania plot because the data is a lot less\n",
        "  oceania_plot.set(ylim=(0, 1000000))\n",
        "  # sets x-axis tick marks for visibility\n",
        "  oceania_plot.set_xticklabels(labels=age_order, rotation=-45)\n",
        "  # for loop to set various features for each of the graphs\n",
        "  for i in plots:\n",
        "    i.set(ylim=(0, 20000000))  # sets y-axis bounds\n",
        "    i.set_xticklabels(labels=age_order, rotation=-45)  # sets x-axis tick marks\n",
        "  # saves figure in png file\n",
        "  plt.savefig('anxiety_continents_year.png')"
      ],
      "execution_count": null,
      "outputs": []
    },
    {
      "cell_type": "code",
      "metadata": {
        "id": "Y0JDSy5W7VEC"
      },
      "source": [
        "def anxiety_in_us(data):\n",
        "  '''\n",
        "  This function focuses particularly on the data from the United States and\n",
        "  plots how each age group has been affected by anxiety throughout 2000 and\n",
        "  2017. This function is useful for understanding patterns in anxiety in\n",
        "  other countries as well, because it allows us to look at the numbers\n",
        "  associated with the country directly.\n",
        "  '''\n",
        "  # filters dataset for data pertaining to the United States\n",
        "  usa = data[(data['location'] == 'United States')]\n",
        "  # creates a figure to plot the graph\n",
        "  fig, ax = plt.subplots(figsize=(10, 7))\n",
        "  # groups the data by year and age and sums the prevalance of anxiety of\n",
        "  # those specific groups\n",
        "  usa_total = usa.groupby(['year', 'age'], sort=False)['val'].sum()\n",
        "  # reset_index changes the series into dataframe\n",
        "  usa_total = usa_total.reset_index()\n",
        "  # plots a graph of anxiety in the United States by age group and year\n",
        "  usa_total = sns.lineplot(data=usa_total, x='age',y='val', hue='year', legend='full', sort=False, ax=ax)\n",
        "  # list of all the age groups in the x-axis\n",
        "  age_order = [\"1 to 4\", \"5 to 9\", \"10 to 14\", \"15 to 19\", \"20 to 24\", \"25 to 29\",\n",
        "                  \"30 to 34\", \"35 to 39\", \"40 to 44\", \"45 to 49\", \"50 to 54\",\n",
        "                  \"55 to 59\", \"60 to 64\", \"65 to 69\", \"70 to 74\", \"75 to 79\",\n",
        "                  \"80 to 84\", \"85 to 89\", \"90 to 94\"]\n",
        "  # sets the y-axis bounds\n",
        "  usa_total.set(ylim=(0, 2500000))\n",
        "  # rotates x-axis tick labels for visibility\n",
        "  usa_total.set_xticklabels(labels=age_order, rotation=-45)\n",
        "  # sets title for the graph\n",
        "  ax.set_title(\"Prevalence of Anxiety Per Age Group in United States\")\n",
        "  # sets x-axis label on graph\n",
        "  usa_total.set_xlabel('Age Groups')\n",
        "  # sets y-axis label on graph\n",
        "  usa_total.set_ylabel('Proportion of Survey Takers by Year')\n",
        "  # saves figure in png file\n",
        "  plt.savefig('anxiety_in_us.png')"
      ],
      "execution_count": null,
      "outputs": []
    },
    {
      "cell_type": "code",
      "metadata": {
        "id": "ruvSt5cEnExR"
      },
      "source": [
        "def anxiety_in_us_by_gender(data):\n",
        "  '''\n",
        "  This function takes a closer look at data from the United States and\n",
        "  depicts trends in anxiety based on gender and age group. Using the\n",
        "  given prevalence, it calculates the proportion of the population that\n",
        "  has anxiety and shows how many people per age group make up that population.\n",
        "  '''\n",
        "  # filters dataset for data pertaining to the United States\n",
        "  usa = data[(data['location'] == 'United States')]\n",
        "  years = usa['year'].unique() # array of all the unique years in dataset\n",
        "  # creates an empty dictionary for total populations per year\n",
        "  total_pop_per_year = dict()\n",
        "  # iterates through array of years\n",
        "  for i in years:\n",
        "    # filters through dataset for data pertaining to that year\n",
        "    data = usa[usa['year'] == i]\n",
        "    # sums the value column of the data of that year\n",
        "    total_pop = data['val'].sum()\n",
        "    # assigns total population to the key-value pair in the dictionary\n",
        "    total_pop_per_year[i] = total_pop\n",
        "  # creates new column in dataset and replicates with the year of that row\n",
        "  usa['proportion'] = usa['year']\n",
        "  # replaces year with total population based on the year in the \n",
        "  # 'proportion column'\n",
        "  usa = usa.replace({'proportion': total_pop_per_year})\n",
        "  # divides each value in proportion with the prevalence of anxiety with\n",
        "  # the total population\n",
        "  usa['proportion'] = usa['val'] / usa['proportion']\n",
        "  # filters dataset for male data\n",
        "  usa_male = usa[usa['sex'] == 'Male']\n",
        "  # filters dataset for female data\n",
        "  usa_female = usa[usa['sex'] == 'Female']\n",
        "  # creates a figure to plot four graphs\n",
        "  fig, [[ax1, ax2], [ax3, ax4]] = plt.subplots(2, ncols=2, figsize=(30, 15))\n",
        "  # plots graph of anxiety in US by age group and year, male only\n",
        "  male = sns.lineplot(data=usa_male, x='age',y='val', hue='year', legend='full', sort=False, ax=ax1)\n",
        "  # sets y-axis bounds for first graph\n",
        "  male.set(ylim=(0, 2000000))\n",
        "  male.set_ylabel('Number of People')  # sets y-axis label for first graph\n",
        "  # title for first graph\n",
        "  ax1.set_title(\"Prevalence of Anxiety Per Age Group in United States (Male)\")\n",
        "  # plots graph of anxiety in US by age group and year, female only\n",
        "  female = sns.lineplot(data=usa_female, x='age',y='val', hue='year', legend='full', sort=False, ax=ax2)\n",
        "  # sets y-axis bounds for second graph\n",
        "  female.set(ylim=(0, 2000000))\n",
        "  female.set_ylabel('Number of People')  # sets y-axis label for second graph\n",
        "  # title for second graph\n",
        "  ax2.set_title(\"Prevalence of Anxiety Per Age Group in United States (Female)\")\n",
        "  # plots graph of proportion of anxiety in US by age group and year, male only\n",
        "  male_proport = sns.lineplot(data=usa_male, x='age',y='proportion', hue='year', legend='full', sort=False, ax=ax3)\n",
        "  # sets y-axis bounds for third graph\n",
        "  male_proport.set(ylim=(0, 0.1))\n",
        "  # sets y-axis label for third graph\n",
        "  male_proport.set_ylabel('Proportion of Total People')\n",
        "  # title for third graph\n",
        "  ax3.set_title(\"Proportion of Anxiety Per Age Group in United States (Male)\")\n",
        "  # plots graph of proportion of anxiety in US by age group and year, female only\n",
        "  female_proport = sns.lineplot(data=usa_female, x='age',y='proportion', hue='year', legend='full', sort=False, ax=ax4)\n",
        "  # sets y-axis bounds for fourth graph\n",
        "  female_proport.set(ylim=(0, 0.1))\n",
        "  # sets y-axis label for fourth graph\n",
        "  female_proport.set_ylabel('Proportion of Total People')\n",
        "  # title for fourth graph\n",
        "  ax4.set_title(\"Proportion of Anxiety Per Age Group in United States (Female)\")\n",
        "  # list of all graphs in figure\n",
        "  plots = [male, female, male_proport, female_proport]\n",
        "  # list of all the age groups in the x-axis\n",
        "  age_order = [\"1 to 4\", \"5 to 9\", \"10 to 14\", \"15 to 19\", \"20 to 24\", \"25 to 29\",\n",
        "                  \"30 to 34\", \"35 to 39\", \"40 to 44\", \"45 to 49\", \"50 to 54\",\n",
        "                  \"55 to 59\", \"60 to 64\", \"65 to 69\", \"70 to 74\", \"75 to 79\",\n",
        "                  \"80 to 84\", \"85 to 89\", \"90 to 94\"]\n",
        "  # for loop to set various features for each of the graphs\n",
        "  for i in plots:\n",
        "    i.set_xticklabels(labels=age_order, rotation=-45)  # sets x-axis tick marks\n",
        "    i.set_xlabel('Age Groups')  # sets x-axis label\n",
        "  # saves figure in png file\n",
        "  plt.savefig('anxiety_in_us_gender.png')"
      ],
      "execution_count": null,
      "outputs": []
    },
    {
      "cell_type": "markdown",
      "metadata": {
        "id": "GXzu_Gkccm3s"
      },
      "source": [
        "# Question 3"
      ]
    },
    {
      "cell_type": "markdown",
      "metadata": {
        "id": "LBzSGThfcpu2"
      },
      "source": [
        "What does the future of anxiety prevalence look like in the US?"
      ]
    },
    {
      "cell_type": "code",
      "metadata": {
        "id": "m8AanTBVx8Gu"
      },
      "source": [
        "def future_anxiety_prevelance(anxiety):\n",
        "  \"\"\"\n",
        "  This function takes in the anxiety dataset, and runs the \n",
        "  methods that train and test a machhine learning model\n",
        "  in order to predict anxiety prevelence on unseen data\n",
        "  \"\"\"\n",
        "  # Generate USA only data set\n",
        "  usa = anxiety[anxiety['location'] == 'United States']\n",
        "  usa = usa[['year', 'age', 'val', 'sex']]\n",
        "\n",
        "  # Data set using all features\n",
        "  usa_all = usa.groupby(['year', 'age', 'sex'])['val'].sum()\n",
        "  usa_all = usa_all.reset_index() \n",
        "  usa_all['year'] = usa_all['year'].astype('int')\n",
        "  # Data to create model\n",
        "  usa_all_train = usa_all[usa_all['year'] < 2015]\n",
        "  # Unseen future data \n",
        "  test_data_all = usa_all[usa_all['year'] >= 2015]\n",
        "\n",
        "  # Data set with no age range feature\n",
        "  usa_no_age = usa[['year', 'val', 'sex']]\n",
        "  usa_no_age = usa_no_age.groupby(['year', 'sex'])['val'].sum()\n",
        "  usa_no_age = usa_no_age.reset_index()\n",
        "  usa_no_age['year'] = usa_no_age['year'].astype('int')\n",
        "  usa_no_age_train = usa_no_age[usa_no_age['year'] < 2015]\n",
        "  test_data_no_age = usa_no_age[usa_no_age['year'] >= 2015]\n",
        "\n",
        "  # Determine hyperparameters for data with all features\n",
        "  X_all = usa_all_train.loc[:, usa_all_train.columns != 'val']\n",
        "  X_all = pd.get_dummies(X_all)\n",
        "  y_all = usa_all_train['val']\n",
        "  max_val_tests(X_all, y_all)\n",
        "\n",
        "  # Fit model based on hyperparameters determined by testing\n",
        "  ml = my_model(usa_all_train, 15, 30)\n",
        "\n",
        "  # Test model on new data\n",
        "  X_new_data = test_data_all.loc[:, test_data_all.columns != 'val']\n",
        "  X_new_data = pd.get_dummies(X_new_data)\n",
        "  y_new_data = test_data_all['val']\n",
        "  prediction = ml.predict(X_new_data)\n",
        "  mse = mean_squared_error(y_new_data, prediction)\n",
        "  print(mse)\n",
        "\n",
        "  # Determine hyperparameters for data with no age feature\n",
        "  X_no_age = usa_no_age.loc[:, usa_no_age.columns != 'val']\n",
        "  X_no_age = pd.get_dummies(X_no_age)\n",
        "  y_no_age = usa_no_age['val']\n",
        "  max_val_tests(X_no_age, y_no_age)\n",
        "\n",
        "  # Fit model based on hyperparameters\n",
        "  ml_2 = my_model(usa_no_age_train, 5, 10)\n",
        "\n",
        "  # Test model on new data\n",
        "  X_new_data_age = test_data_no_age.loc[:, test_data_no_age.columns != 'val']\n",
        "  X_new_data_age = pd.get_dummies(X_new_data_age)\n",
        "  y_new_data_age = test_data_no_age['val']\n",
        "  prediction_age = ml_2.predict(X_new_data_age)\n",
        "\n",
        "  # Look at actual vs predicted values\n",
        "  y_new_data_age = y_new_data_age.tolist()\n",
        "  for i in range(len(y_new_data_age)):\n",
        "    print('Actual:    ', y_new_data_age[i])\n",
        "    print('Predicted: ', prediction_age[i])\n",
        "    print('Difference:', (y_new_data_age[i] - prediction_age[i]))\n",
        "    print('% Error:   ', abs(prediction_age[i]-y_new_data_age[i]) / y_new_data_age[i] * 100)\n",
        "    print()"
      ],
      "execution_count": null,
      "outputs": []
    },
    {
      "cell_type": "code",
      "metadata": {
        "id": "ulEiwnfZzCuU"
      },
      "source": [
        "def my_model(my_data, depth, nodes):\n",
        "  \"\"\"\n",
        "  This function takes in a dataframe, and ints for max dept\n",
        "  and max possible leaf nodes for hyperparameters of a \n",
        "  scikit learn regression model, fits a model to the data,\n",
        "  and displays and returns its decision tree. \n",
        "  \"\"\"\n",
        "  # fit model\n",
        "  X_my_model = my_data.loc[:, my_data.columns != 'val']\n",
        "  X_my_model = pd.get_dummies(X_my_model)\n",
        "  y_my_model = my_data['val']\n",
        "  model = DecisionTreeRegressor(max_depth=depth, max_leaf_nodes=nodes, random_state=1)\n",
        "  #X_train, X_test, y_train, y_test = train_test_split(X, y, test_size=0.2)\n",
        "  #model = model.fit(X_train, y_train)\n",
        "  model = model.fit(X_my_model, y_my_model)\n",
        "\n",
        "  # Graph decision tree\n",
        "  dot_data = export_graphviz(model, out_file=None, \n",
        "                     feature_names=X_my_model.columns, filled=True,\n",
        "                     rounded=True, special_characters=True)  \n",
        "  graph = graphviz.Source(dot_data)\n",
        "  display(graph)\n",
        "\n",
        "  return model"
      ],
      "execution_count": null,
      "outputs": []
    },
    {
      "cell_type": "code",
      "metadata": {
        "id": "gV78dmtXzL1g"
      },
      "source": [
        "def max_val_tests(X_tuning, y_tuning):\n",
        "  \"\"\"\n",
        "  This function takes features (X_tuning) and labels (y_tuning)\n",
        "  for parameters as dataframes, and tests a range of max depth\n",
        "  and max leaf node values for a regression model, plotting the results\n",
        "  in terms of mean squared error. \n",
        "  \"\"\"\n",
        "\n",
        "  # Generate mean squared error values for the hhyperprameters\n",
        "  X_train, X_test, y_train, y_test = train_test_split(X_tuning, y_tuning, test_size=0.2, random_state=1)                             \n",
        "  data = []\n",
        "  for i in range(2, 50):\n",
        "    model_1 = DecisionTreeRegressor(max_depth=i, random_state=1)\n",
        "    model_2 = DecisionTreeRegressor(max_leaf_nodes=i, random_state=1)\n",
        "    model_1.fit(X_train, y_train)\n",
        "    model_2.fit(X_train, y_train)\n",
        "    \n",
        "    y_train_pred_1 = model_1.predict(X_train)\n",
        "    y_train_pred_2 = model_2.predict(X_train)\n",
        "    mse_train_1 = mean_squared_error(y_train, y_train_pred_1)\n",
        "    mse_train_2 = mean_squared_error(y_train, y_train_pred_2)\n",
        "    \n",
        "    y_test_pred_1 = model_1.predict(X_test)\n",
        "    y_test_pred_2 = model_2.predict(X_test)\n",
        "    mse_test_1= mean_squared_error(y_test, y_test_pred_1)\n",
        "    mse_test_2= mean_squared_error(y_test, y_test_pred_2)\n",
        "    \n",
        "    # compile results in dictionary\n",
        "    data.append({'max depth': i, 'max leaf nodes': i, 'mse_train_1': mse_train_1, \n",
        "                'mse_test_1': mse_test_1, 'mse_train_2': mse_train_2,\n",
        "                'mse_test_2': mse_test_2})\n",
        "    \n",
        "\n",
        "  data = pd.DataFrame(data)\n",
        "\n",
        "  # Make figure for plotting results with four axis\n",
        "  fig, [[ax1, ax2], [ax3, ax4]] = plt.subplots(2, ncols=2, figsize=(10, 10))\n",
        "\n",
        "  # ax1\n",
        "  sns.lineplot(data=data, x='max depth', y='mse_train_1', legend='full', ax=ax1, )\n",
        "  ax1.set(ylabel='Mean Squared Error')\n",
        "  ax1.set(xlim=(0, 20))\n",
        "  ax1.set(ylim=(0, None))\n",
        "\n",
        "  #ax2\n",
        "  sns.lineplot(data=data, x='max depth', y='mse_test_1', legend='full', ax=ax2)\n",
        "  ax2.set(ylabel='Mean Squared Error')\n",
        "  ax2.set(xlim=(0, 20))\n",
        "  ax2.set(ylim=(0, None))\n",
        "\n",
        "  #ax3\n",
        "  sns.lineplot(data=data, x='max leaf nodes', y='mse_train_2', ax=ax3)\n",
        "  ax3.set(ylabel='Mean Squared Error')\n",
        "  ax3.set(xlim=(0, 40))\n",
        "  ax3.set(ylim=(0, None))\n",
        "\n",
        "  #ax4\n",
        "  sns.lineplot(data=data, x='max leaf nodes', y='mse_test_2', ax=ax4)\n",
        "  ax4.set(ylabel='Mean Squared Error')\n",
        "  ax4.set(xlim=(0, 40))\n",
        "  ax4.set(ylim=(0, None))"
      ],
      "execution_count": null,
      "outputs": []
    },
    {
      "cell_type": "code",
      "metadata": {
        "id": "qEOv9SBLzvr2",
        "outputId": "b5bdf710-62dd-4a17-999f-f7dc166e38f3",
        "colab": {
          "base_uri": "https://localhost:8080/",
          "height": 765
        }
      },
      "source": [
        "def main():\n",
        "  # read datasets for anxiety and countries \n",
        "  url = 'https://raw.githubusercontent.com/yennilee2/cse163/master/IHME-GBD_2017_DATA-1891f182-1.csv'\n",
        "  anxiety = pd.read_csv(url)\n",
        "  url_2 = 'https://raw.githubusercontent.com/yennilee2/cse163/master/IHME-GBD_2017_DATA-0047122b-1.csv'\n",
        "  small_anxiety = pd.read_csv(url_2)\n",
        "  countries = gpd.read_file('/content/data/ne_110m_admin_0_countries.shp')\n",
        "  \n",
        "  # merge dataset using merge_data function\n",
        "  merged = merge_data(anxiety, countries)\n",
        "  # merged_2 = merge_data(small_anxiety, countries)\n",
        "  \n",
        "  #country_prev_year(merged)\n",
        "  prev_per_gender(merged)\n",
        "  # continents_by_gender_group(merged)\n",
        "  # continents_by_age_group(merged)\n",
        "  # anxiety_in_us(merged)\n",
        "  # anxiety_in_us_by_gender(merged)\n",
        "  # future_anxiety_prevelance(anxiety)\n",
        "\n",
        "  # #testing code:\n",
        "  # continents_by_gender_group(merged_2)\n",
        "  # anxiety_in_us(merged_2)\n",
        "  # anxiety_in_us_by_gender(merged_2)\n",
        "\n",
        "if __name__ == '__main__':\n",
        "    main()"
      ],
      "execution_count": null,
      "outputs": [
        {
          "output_type": "stream",
          "text": [
            "/usr/local/lib/python3.6/dist-packages/ipykernel_launcher.py:7: SettingWithCopyWarning: \n",
            "A value is trying to be set on a copy of a slice from a DataFrame.\n",
            "Try using .loc[row_indexer,col_indexer] = value instead\n",
            "\n",
            "See the caveats in the documentation: http://pandas.pydata.org/pandas-docs/stable/user_guide/indexing.html#returning-a-view-versus-a-copy\n",
            "  import sys\n"
          ],
          "name": "stderr"
        },
        {
          "output_type": "display_data",
          "data": {
            "image/png": "[encoded data removed]",
            "text/plain": [
              "<Figure size 720x720 with 2 Axes>"
            ]
          },
          "metadata": {
            "tags": []
          }
        }
      ]
    },
    {
      "cell_type": "code",
      "metadata": {
        "id": "lFknqUn6zT90"
      },
      "source": [
        ""
      ],
      "execution_count": null,
      "outputs": []
    }
  ]
}